{
 "cells": [
  {
   "cell_type": "code",
   "execution_count": 6,
   "id": "e28db730-ec72-41f8-a8c3-a0078ac40e7c",
   "metadata": {},
   "outputs": [
    {
     "name": "stdout",
     "output_type": "stream",
     "text": [
      "CSV file 'students.csv' created successfully!\n",
      "   Student  Math  Science  English  Attendance      City\n",
      "0    Alice  85.0     90.0      NaN        95.0  New York\n",
      "1      Bob  78.0      NaN     88.0        80.0       NaN\n",
      "2  Charlie  92.0     85.0     90.0         NaN    London\n",
      "3    David   NaN     75.0     85.0        70.0     Paris\n",
      "4      Eva  88.0     92.0      NaN        85.0       NaN\n",
      "5    Frank  80.0     78.0     82.0        90.0  New York\n",
      "6    Grace   NaN     88.0     89.0        95.0    London\n"
     ]
    }
   ],
   "source": [
    "import pandas as pd\n",
    "import numpy as np\n",
    "\n",
    "# Create dataset\n",
    "data = {\n",
    "    \"Student\": [\"Alice\", \"Bob\", \"Charlie\", \"David\", \"Eva\", \"Frank\", \"Grace\"],\n",
    "    \"Math\": [85, 78, 92, np.nan, 88, 80, np.nan],\n",
    "    \"Science\": [90, np.nan, 85, 75, 92, 78, 88],\n",
    "    \"English\": [np.nan, 88, 90, 85, np.nan, 82, 89],\n",
    "    \"Attendance\": [95, 80, np.nan, 70, 85, 90, 95],\n",
    "    \"City\": [\"New York\", np.nan, \"London\", \"Paris\", np.nan, \"New York\", \"London\"]\n",
    " }\n",
    "\n",
    "df = pd.DataFrame(data)\n",
    "\n",
    "# Save to CSV\n",
    "df.to_csv(\"students.csv\", index=False)\n",
    "print(\"CSV file 'students.csv' created successfully!\")\n",
    "df = pd.read_csv(\"students.csv\")\n",
    "print(df)"
   ]
  },
  {
   "cell_type": "code",
   "execution_count": null,
   "id": "6cd6628f-951b-4025-920d-0faaa41cf690",
   "metadata": {},
   "outputs": [],
   "source": []
  },
  {
   "cell_type": "code",
   "execution_count": null,
   "id": "2c2bcaba-aa29-4a88-86ea-0e4be33bfd0b",
   "metadata": {},
   "outputs": [],
   "source": []
  }
 ],
 "metadata": {
  "kernelspec": {
   "display_name": "Python 3 (ipykernel)",
   "language": "python",
   "name": "python3"
  },
  "language_info": {
   "codemirror_mode": {
    "name": "ipython",
    "version": 3
   },
   "file_extension": ".py",
   "mimetype": "text/x-python",
   "name": "python",
   "nbconvert_exporter": "python",
   "pygments_lexer": "ipython3",
   "version": "3.13.5"
  }
 },
 "nbformat": 4,
 "nbformat_minor": 5
}
